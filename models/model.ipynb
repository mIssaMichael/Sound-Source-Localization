{
 "cells": [
  {
   "cell_type": "code",
   "execution_count": 14,
   "metadata": {},
   "outputs": [],
   "source": [
    "import pandas as pd\n",
    "import ast\n",
    "import re\n",
    "import numpy as np\n",
    "import matplotlib.pyplot as plt\n",
    "import torch\n",
    "from sklearn.model_selection import train_test_split\n",
    "from sklearn.svm import SVR\n",
    "from sklearn.preprocessing import StandardScaler, MinMaxScaler\n",
    "from sklearn.metrics import mean_squared_error\n",
    "from sklearn.model_selection import train_test_split, GridSearchCV\n",
    "from sklearn.ensemble import RandomForestClassifier\n",
    "from sklearn.metrics import accuracy_score"
   ]
  },
  {
   "cell_type": "code",
   "execution_count": 15,
   "metadata": {},
   "outputs": [
    {
     "data": {
      "text/html": [
       "<div>\n",
       "<style scoped>\n",
       "    .dataframe tbody tr th:only-of-type {\n",
       "        vertical-align: middle;\n",
       "    }\n",
       "\n",
       "    .dataframe tbody tr th {\n",
       "        vertical-align: top;\n",
       "    }\n",
       "\n",
       "    .dataframe thead th {\n",
       "        text-align: right;\n",
       "    }\n",
       "</style>\n",
       "<table border=\"1\" class=\"dataframe\">\n",
       "  <thead>\n",
       "    <tr style=\"text-align: right;\">\n",
       "      <th></th>\n",
       "      <th>Elevation</th>\n",
       "      <th>Azimuth</th>\n",
       "      <th>ITD</th>\n",
       "      <th>ILD</th>\n",
       "      <th>Spectral ILD</th>\n",
       "      <th>Spectral ITD</th>\n",
       "      <th>Left MFCC</th>\n",
       "      <th>Right MFCC</th>\n",
       "    </tr>\n",
       "  </thead>\n",
       "  <tbody>\n",
       "    <tr>\n",
       "      <th>0</th>\n",
       "      <td>-10</td>\n",
       "      <td>0</td>\n",
       "      <td>[-0.00292517 -0.01018141]</td>\n",
       "      <td>[0.266732   0.93314514]</td>\n",
       "      <td>[0.2690964 0.2775728]</td>\n",
       "      <td>[-0.01160998 -0.00580499  0.        ]</td>\n",
       "      <td>[[-199.90599    -251.3258    ]\\n [  -9.529352 ...</td>\n",
       "      <td>[[-2.0854100e+02 -2.6012430e+02]\\n [ 1.2185602...</td>\n",
       "    </tr>\n",
       "    <tr>\n",
       "      <th>1</th>\n",
       "      <td>-10</td>\n",
       "      <td>5</td>\n",
       "      <td>[-0.00287982 -0.01018141]</td>\n",
       "      <td>[-1.47343338  0.42903516]</td>\n",
       "      <td>[-1.5182811  -0.85201576]</td>\n",
       "      <td>[-0.01160998 -0.00580499  0.        ]</td>\n",
       "      <td>[[-209.85387    -261.09167   ]\\n [  -4.1136837...</td>\n",
       "      <td>[[-199.50696    -251.42146   ]\\n [   7.477209 ...</td>\n",
       "    </tr>\n",
       "    <tr>\n",
       "      <th>2</th>\n",
       "      <td>-10</td>\n",
       "      <td>10</td>\n",
       "      <td>[-0.00283447 -0.01179138]</td>\n",
       "      <td>[-3.15547019  0.23635436]</td>\n",
       "      <td>[-3.24823767 -1.9387275 ]</td>\n",
       "      <td>[-0.00580499 -0.00580499 -0.00580499]</td>\n",
       "      <td>[[-220.29958   -270.83414  ]\\n [   1.1125026  ...</td>\n",
       "      <td>[[-191.27338    -243.33148   ]\\n [   3.3398633...</td>\n",
       "    </tr>\n",
       "    <tr>\n",
       "      <th>3</th>\n",
       "      <td>-10</td>\n",
       "      <td>15</td>\n",
       "      <td>[-0.00278912 -0.01179138]</td>\n",
       "      <td>[-4.76506531  0.9634611 ]</td>\n",
       "      <td>[-4.90409791 -3.00950706]</td>\n",
       "      <td>[-0.01160998 -0.00580499  0.00580499]</td>\n",
       "      <td>[[-230.81404   -281.11288  ]\\n [   7.301242   ...</td>\n",
       "      <td>[[-184.50407    -236.86351   ]\\n [   0.840785 ...</td>\n",
       "    </tr>\n",
       "    <tr>\n",
       "      <th>4</th>\n",
       "      <td>-10</td>\n",
       "      <td>20</td>\n",
       "      <td>[-0.00276644 -0.01176871]</td>\n",
       "      <td>[-6.18944943  1.88572168]</td>\n",
       "      <td>[-6.37494266 -3.96631181]</td>\n",
       "      <td>[-0.01160998  0.          0.        ]</td>\n",
       "      <td>[[-2.41548431e+02 -2.91211823e+02]\\n [ 1.33940...</td>\n",
       "      <td>[[-179.76869   -232.35434  ]\\n [   1.0394747  ...</td>\n",
       "    </tr>\n",
       "  </tbody>\n",
       "</table>\n",
       "</div>"
      ],
      "text/plain": [
       "   Elevation  Azimuth                        ITD                        ILD  \\\n",
       "0        -10        0  [-0.00292517 -0.01018141]    [0.266732   0.93314514]   \n",
       "1        -10        5  [-0.00287982 -0.01018141]  [-1.47343338  0.42903516]   \n",
       "2        -10       10  [-0.00283447 -0.01179138]  [-3.15547019  0.23635436]   \n",
       "3        -10       15  [-0.00278912 -0.01179138]  [-4.76506531  0.9634611 ]   \n",
       "4        -10       20  [-0.00276644 -0.01176871]  [-6.18944943  1.88572168]   \n",
       "\n",
       "                Spectral ILD                           Spectral ITD  \\\n",
       "0      [0.2690964 0.2775728]  [-0.01160998 -0.00580499  0.        ]   \n",
       "1  [-1.5182811  -0.85201576]  [-0.01160998 -0.00580499  0.        ]   \n",
       "2  [-3.24823767 -1.9387275 ]  [-0.00580499 -0.00580499 -0.00580499]   \n",
       "3  [-4.90409791 -3.00950706]  [-0.01160998 -0.00580499  0.00580499]   \n",
       "4  [-6.37494266 -3.96631181]  [-0.01160998  0.          0.        ]   \n",
       "\n",
       "                                           Left MFCC  \\\n",
       "0  [[-199.90599    -251.3258    ]\\n [  -9.529352 ...   \n",
       "1  [[-209.85387    -261.09167   ]\\n [  -4.1136837...   \n",
       "2  [[-220.29958   -270.83414  ]\\n [   1.1125026  ...   \n",
       "3  [[-230.81404   -281.11288  ]\\n [   7.301242   ...   \n",
       "4  [[-2.41548431e+02 -2.91211823e+02]\\n [ 1.33940...   \n",
       "\n",
       "                                          Right MFCC  \n",
       "0  [[-2.0854100e+02 -2.6012430e+02]\\n [ 1.2185602...  \n",
       "1  [[-199.50696    -251.42146   ]\\n [   7.477209 ...  \n",
       "2  [[-191.27338    -243.33148   ]\\n [   3.3398633...  \n",
       "3  [[-184.50407    -236.86351   ]\\n [   0.840785 ...  \n",
       "4  [[-179.76869   -232.35434  ]\\n [   1.0394747  ...  "
      ]
     },
     "execution_count": 15,
     "metadata": {},
     "output_type": "execute_result"
    }
   ],
   "source": [
    "# Step 1: Data Preprocessing\n",
    "file_path = 'C:/Users/issam_biodcm6/Documents/CS582 Assignments/end-of-semester-project/data/processed_data/combined_data.csv'\n",
    "d = pd.read_csv(file_path)\n",
    "d.head(5)\n"
   ]
  },
  {
   "cell_type": "code",
   "execution_count": 17,
   "metadata": {},
   "outputs": [
    {
     "name": "stdout",
     "output_type": "stream",
     "text": [
      "Elevation           int64\n",
      "ITD_0             float64\n",
      "ITD_1             float64\n",
      "ILD_0             float64\n",
      "ILD_1             float64\n",
      "Spectral ILD_0    float64\n",
      "Spectral ILD_1    float64\n",
      "Spectral ITD_0    float64\n",
      "Spectral ITD_1    float64\n",
      "Spectral ITD_2    float64\n",
      "dtype: object\n"
     ]
    },
    {
     "data": {
      "text/html": [
       "<div>\n",
       "<style scoped>\n",
       "    .dataframe tbody tr th:only-of-type {\n",
       "        vertical-align: middle;\n",
       "    }\n",
       "\n",
       "    .dataframe tbody tr th {\n",
       "        vertical-align: top;\n",
       "    }\n",
       "\n",
       "    .dataframe thead th {\n",
       "        text-align: right;\n",
       "    }\n",
       "</style>\n",
       "<table border=\"1\" class=\"dataframe\">\n",
       "  <thead>\n",
       "    <tr style=\"text-align: right;\">\n",
       "      <th></th>\n",
       "      <th>Elevation</th>\n",
       "      <th>ITD_0</th>\n",
       "      <th>ITD_1</th>\n",
       "      <th>ILD_0</th>\n",
       "      <th>ILD_1</th>\n",
       "      <th>Spectral ILD_0</th>\n",
       "      <th>Spectral ILD_1</th>\n",
       "      <th>Spectral ITD_0</th>\n",
       "      <th>Spectral ITD_1</th>\n",
       "      <th>Spectral ITD_2</th>\n",
       "    </tr>\n",
       "  </thead>\n",
       "  <tbody>\n",
       "    <tr>\n",
       "      <th>0</th>\n",
       "      <td>-10</td>\n",
       "      <td>-0.002925</td>\n",
       "      <td>-0.010181</td>\n",
       "      <td>0.266732</td>\n",
       "      <td>0.933145</td>\n",
       "      <td>0.269096</td>\n",
       "      <td>0.277573</td>\n",
       "      <td>-0.011610</td>\n",
       "      <td>-0.005805</td>\n",
       "      <td>0.000000</td>\n",
       "    </tr>\n",
       "    <tr>\n",
       "      <th>1</th>\n",
       "      <td>-10</td>\n",
       "      <td>-0.002880</td>\n",
       "      <td>-0.010181</td>\n",
       "      <td>-1.473433</td>\n",
       "      <td>0.429035</td>\n",
       "      <td>-1.518281</td>\n",
       "      <td>-0.852016</td>\n",
       "      <td>-0.011610</td>\n",
       "      <td>-0.005805</td>\n",
       "      <td>0.000000</td>\n",
       "    </tr>\n",
       "    <tr>\n",
       "      <th>2</th>\n",
       "      <td>-10</td>\n",
       "      <td>-0.002834</td>\n",
       "      <td>-0.011791</td>\n",
       "      <td>-3.155470</td>\n",
       "      <td>0.236354</td>\n",
       "      <td>-3.248238</td>\n",
       "      <td>-1.938727</td>\n",
       "      <td>-0.005805</td>\n",
       "      <td>-0.005805</td>\n",
       "      <td>-0.005805</td>\n",
       "    </tr>\n",
       "    <tr>\n",
       "      <th>3</th>\n",
       "      <td>-10</td>\n",
       "      <td>-0.002789</td>\n",
       "      <td>-0.011791</td>\n",
       "      <td>-4.765065</td>\n",
       "      <td>0.963461</td>\n",
       "      <td>-4.904098</td>\n",
       "      <td>-3.009507</td>\n",
       "      <td>-0.011610</td>\n",
       "      <td>-0.005805</td>\n",
       "      <td>0.005805</td>\n",
       "    </tr>\n",
       "    <tr>\n",
       "      <th>4</th>\n",
       "      <td>-10</td>\n",
       "      <td>-0.002766</td>\n",
       "      <td>-0.011769</td>\n",
       "      <td>-6.189449</td>\n",
       "      <td>1.885722</td>\n",
       "      <td>-6.374943</td>\n",
       "      <td>-3.966312</td>\n",
       "      <td>-0.011610</td>\n",
       "      <td>0.000000</td>\n",
       "      <td>0.000000</td>\n",
       "    </tr>\n",
       "  </tbody>\n",
       "</table>\n",
       "</div>"
      ],
      "text/plain": [
       "   Elevation     ITD_0     ITD_1     ILD_0     ILD_1  Spectral ILD_0  \\\n",
       "0        -10 -0.002925 -0.010181  0.266732  0.933145        0.269096   \n",
       "1        -10 -0.002880 -0.010181 -1.473433  0.429035       -1.518281   \n",
       "2        -10 -0.002834 -0.011791 -3.155470  0.236354       -3.248238   \n",
       "3        -10 -0.002789 -0.011791 -4.765065  0.963461       -4.904098   \n",
       "4        -10 -0.002766 -0.011769 -6.189449  1.885722       -6.374943   \n",
       "\n",
       "   Spectral ILD_1  Spectral ITD_0  Spectral ITD_1  Spectral ITD_2  \n",
       "0        0.277573       -0.011610       -0.005805        0.000000  \n",
       "1       -0.852016       -0.011610       -0.005805        0.000000  \n",
       "2       -1.938727       -0.005805       -0.005805       -0.005805  \n",
       "3       -3.009507       -0.011610       -0.005805        0.005805  \n",
       "4       -3.966312       -0.011610        0.000000        0.000000  "
      ]
     },
     "execution_count": 17,
     "metadata": {},
     "output_type": "execute_result"
    }
   ],
   "source": [
    "# Convert string arrays to numeric arrays\n",
    "def parse_array_string(array_string):\n",
    "    # Remove brackets and split by whitespace\n",
    "    array_string = array_string.strip('[]')\n",
    "    array_values = array_string.split()\n",
    "\n",
    "    # Convert values to float\n",
    "    numeric_array = [float(value) for value in array_values]\n",
    "    return numeric_array\n",
    "\n",
    "# Convert string arrays to numeric arrays in the dataset\n",
    "for col in ['ITD', 'ILD', 'Spectral ILD', 'Spectral ITD']:\n",
    "    d[col] = d[col].apply(parse_array_string)\n",
    "\n",
    "# Convert lists to pandas Series of numeric values\n",
    "for col in ['ITD', 'ILD', 'Spectral ILD', 'Spectral ITD']:\n",
    "    temp_df = pd.DataFrame(d[col].to_list(), columns=[f\"{col}_{i}\" for i in range(len(d[col].iloc[0]))])\n",
    "    d = pd.concat([d, temp_df], axis=1)\n",
    "    d.drop(columns=[col], inplace=True)\n",
    "\n",
    "# Separate features (X) and target (y)\n",
    "X = d.drop(columns=['Azimuth'])  # Features: Elevation, ITD, ILD, Spectral ILD, Spectral ITD\n",
    "y = d['Azimuth']  # Target: Azimuth\n",
    "\n",
    "print(X.dtypes)\n",
    "\n",
    "\n",
    "X.head()\n"
   ]
  },
  {
   "cell_type": "code",
   "execution_count": 18,
   "metadata": {},
   "outputs": [],
   "source": [
    "# Separate features (X) and target (y)\n",
    "X = d.drop(columns=['Azimuth', 'Elevation'])  # Features: ITD, ILD, Spectral ILD, Spectral ITD\n",
    "y = d['Azimuth']  # Target: Azimuth"
   ]
  },
  {
   "cell_type": "code",
   "execution_count": 19,
   "metadata": {},
   "outputs": [
    {
     "data": {
      "image/png": "[encoded data removed]",
      "text/plain": [
       "<Figure size 2000x600 with 1 Axes>"
      ]
     },
     "metadata": {},
     "output_type": "display_data"
    }
   ],
   "source": [
    "y.head()\n",
    "# Calculate frequencies of azimuth values\n",
    "azimuth_freq = y.value_counts().sort_index()\n",
    "# Set figure size\n",
    "plt.figure(figsize=(20, 6))\n",
    "# Plot the frequencies\n",
    "plt.bar(azimuth_freq.index, azimuth_freq.values)\n",
    "plt.xlabel('Azimuth')\n",
    "plt.ylabel('Frequency')\n",
    "plt.title('Frequency of Azimuth Values')\n",
    "plt.show()\n",
    "\n",
    "\n"
   ]
  },
  {
   "cell_type": "code",
   "execution_count": 20,
   "metadata": {},
   "outputs": [],
   "source": [
    "# Step 2: Split the data into train, tune, and test sets\n",
    "# We'll split the data into 70% training, 15% tuning, and 15% testing\n",
    "X_train, X_temp, y_train, y_temp = train_test_split(X, y, test_size=0.3, random_state=4)\n",
    "X_tune, X_test, y_tune, y_test = train_test_split(X_temp, y_temp, test_size=0.5, random_state=4)"
   ]
  },
  {
   "cell_type": "code",
   "execution_count": 21,
   "metadata": {},
   "outputs": [],
   "source": [
    "# Step 3: Train a Random Forest classifier\n",
    "rf_classifier = RandomForestClassifier(random_state=4)"
   ]
  },
  {
   "cell_type": "code",
   "execution_count": 22,
   "metadata": {},
   "outputs": [
    {
     "name": "stderr",
     "output_type": "stream",
     "text": [
      "c:\\Users\\issam_biodcm6\\AppData\\Local\\Programs\\Python\\Python312\\Lib\\site-packages\\sklearn\\model_selection\\_split.py:737: UserWarning: The least populated class in y has only 2 members, which is less than n_splits=5.\n",
      "  warnings.warn(\n"
     ]
    },
    {
     "name": "stdout",
     "output_type": "stream",
     "text": [
      "Best parameters found: {'max_depth': None, 'min_samples_split': 2, 'n_estimators': 200}\n",
      "Tuning set accuracy: 0.981203007518797\n"
     ]
    }
   ],
   "source": [
    "# Step 4: Tune hyperparameters using GridSearchCV\n",
    "param_grid = {\n",
    "    'n_estimators': [100, 200, 300],\n",
    "    'max_depth': [None, 10, 20],\n",
    "    'min_samples_split': [2, 5, 10]\n",
    "}\n",
    "\n",
    "grid_search = GridSearchCV(rf_classifier, param_grid, cv=5, scoring='accuracy')\n",
    "grid_search.fit(X_train, y_train)\n",
    "\n",
    "print(\"Best parameters found:\", grid_search.best_params_)\n",
    "\n",
    "# Step 5: Evaluate the model on the tuning set\n",
    "best_rf_classifier = grid_search.best_estimator_\n",
    "tune_predictions = best_rf_classifier.predict(X_tune)\n",
    "tune_accuracy = accuracy_score(y_tune, tune_predictions)\n",
    "print(\"Tuning set accuracy:\", tune_accuracy)\n"
   ]
  },
  {
   "cell_type": "code",
   "execution_count": 23,
   "metadata": {},
   "outputs": [
    {
     "name": "stdout",
     "output_type": "stream",
     "text": [
      "Test set accuracy: 0.9906191369606003\n"
     ]
    }
   ],
   "source": [
    "# Step 6: Evaluate the model on the test set\n",
    "test_predictions = best_rf_classifier.predict(X_test)\n",
    "test_accuracy = accuracy_score(y_test, test_predictions)\n",
    "print(\"Test set accuracy:\", test_accuracy)\n"
   ]
  },
  {
   "cell_type": "code",
   "execution_count": 25,
   "metadata": {},
   "outputs": [],
   "source": [
    "import pandas as pd\n",
    "\n",
    "# Extract test azimuth cases and predicted values\n",
    "test_azimuth_cases = y_test # Replace <index_of_azimuth_column> with the index of the azimuth column in your feature matrix X_test\n",
    "predicted_test_azimuth_values = test_predictions\n",
    "\n",
    "# Create a DataFrame to store the data\n",
    "results_df = pd.DataFrame({'Test Azimuth Cases': test_azimuth_cases, 'Predicted Azimuth Values': predicted_test_azimuth_values})\n",
    "\n",
    "# Save DataFrame to a CSV file\n",
    "results_df.to_csv('test_results.csv', index=False)\n"
   ]
  }
 ],
 "metadata": {
  "kernelspec": {
   "display_name": "Python 3",
   "language": "python",
   "name": "python3"
  },
  "language_info": {
   "codemirror_mode": {
    "name": "ipython",
    "version": 3
   },
   "file_extension": ".py",
   "mimetype": "text/x-python",
   "name": "python",
   "nbconvert_exporter": "python",
   "pygments_lexer": "ipython3",
   "version": "3.12.1"
  }
 },
 "nbformat": 4,
 "nbformat_minor": 2
}
